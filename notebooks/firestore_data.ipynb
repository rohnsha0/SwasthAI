{
 "cells": [
  {
   "cell_type": "code",
   "execution_count": 5,
   "id": "d73d3a22-70b8-4532-817c-fdcc73ec968f",
   "metadata": {
    "tags": []
   },
   "outputs": [],
   "source": [
    "import firebase_admin\n",
    "from firebase_admin import firestore"
   ]
  },
  {
   "cell_type": "code",
   "execution_count": 2,
   "id": "28619657-3368-49e5-805e-e6d5f3daac2e",
   "metadata": {
    "tags": []
   },
   "outputs": [],
   "source": [
    "cred= firebase_admin.credentials.Certificate(\"../medbuddy-ai-firebase-adminsdk-xk98g-15cd95dcd9.json\")"
   ]
  },
  {
   "cell_type": "code",
   "execution_count": 3,
   "id": "45287961-ebc9-4560-b134-600932c24e47",
   "metadata": {
    "tags": []
   },
   "outputs": [],
   "source": [
    "app=firebase_admin.initialize_app(cred)"
   ]
  },
  {
   "cell_type": "code",
   "execution_count": 6,
   "id": "8314453d-430a-42cb-b276-9540ca53a16e",
   "metadata": {
    "tags": []
   },
   "outputs": [],
   "source": [
    "db= firestore.client()"
   ]
  },
  {
   "cell_type": "code",
   "execution_count": 10,
   "id": "d6de4229-5000-4c10-8814-0c7597ddf306",
   "metadata": {
    "tags": []
   },
   "outputs": [
    {
     "data": {
      "text/plain": [
       "update_time {\n",
       "  seconds: 1706509363\n",
       "  nanos: 893006000\n",
       "}"
      ]
     },
     "execution_count": 10,
     "metadata": {},
     "output_type": "execute_result"
    }
   ],
   "source": [
    "data = {\n",
    "    \"cover_link\": \"https://i.postimg.cc/2SB1PfCk/51638651358-9834f720d9-o.jpg\", \n",
    "    \"cure\": \"15days\", \n",
    "    \"cure_cycle\": \"cure_filed for tb\",\n",
    "    \"diseaseIndex\": \"1\",\n",
    "    \"domain\": \"0\",\n",
    "    \"disease_name\": \"Tuberculosis\",\n",
    "    \"introduction\": \"this is introduction for tuberculosis\",\n",
    "    \"symptoms\": \"these are the symptions of the dieases\",\n",
    "    \"thresholds\": \"this is the thresholds for diseases data\"\n",
    "}\n",
    "db.collection(\"diseaseData\").document(\"0-1\").set(data)"
   ]
  },
  {
   "cell_type": "code",
   "execution_count": null,
   "id": "4de7b931-b767-4ccb-ad3c-648c5abf565f",
   "metadata": {},
   "outputs": [],
   "source": []
  }
 ],
 "metadata": {
  "kernelspec": {
   "display_name": "Python 3 (ipykernel)",
   "language": "python",
   "name": "python3"
  },
  "language_info": {
   "codemirror_mode": {
    "name": "ipython",
    "version": 3
   },
   "file_extension": ".py",
   "mimetype": "text/x-python",
   "name": "python",
   "nbconvert_exporter": "python",
   "pygments_lexer": "ipython3",
   "version": "3.10.9"
  }
 },
 "nbformat": 4,
 "nbformat_minor": 5
}
