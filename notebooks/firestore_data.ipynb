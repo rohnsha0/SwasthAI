{
 "cells": [
  {
   "cell_type": "code",
   "execution_count": 1,
   "id": "d73d3a22-70b8-4532-817c-fdcc73ec968f",
   "metadata": {
    "tags": []
   },
   "outputs": [],
   "source": [
    "import firebase_admin\n",
    "from firebase_admin import firestore\n",
    "from firebase_admin import db"
   ]
  },
  {
   "cell_type": "code",
   "execution_count": 2,
   "id": "28619657-3368-49e5-805e-e6d5f3daac2e",
   "metadata": {
    "tags": []
   },
   "outputs": [],
   "source": [
    "cred= firebase_admin.credentials.Certificate(\"../fbServiceAdmin.json\")"
   ]
  },
  {
   "cell_type": "code",
   "execution_count": 3,
   "id": "45287961-ebc9-4560-b134-600932c24e47",
   "metadata": {
    "tags": []
   },
   "outputs": [],
   "source": [
    "app=firebase_admin.initialize_app(cred, {\"databaseURL\":\"https://medbuddy-ai-default-rtdb.asia-southeast1.firebasedatabase.app/\"})"
   ]
  },
  {
   "cell_type": "code",
   "execution_count": 4,
   "id": "8314453d-430a-42cb-b276-9540ca53a16e",
   "metadata": {
    "tags": []
   },
   "outputs": [],
   "source": [
    "DB= firestore.client()"
   ]
  },
  {
   "cell_type": "code",
   "execution_count": 15,
   "id": "d6de4229-5000-4c10-8814-0c7597ddf306",
   "metadata": {
    "tags": []
   },
   "outputs": [
    {
     "data": {
      "text/plain": [
       "update_time {\n",
       "  seconds: 1709137979\n",
       "  nanos: 165641000\n",
       "}"
      ]
     },
     "execution_count": 15,
     "metadata": {},
     "output_type": "execute_result"
    }
   ],
   "source": [
    "data = {\n",
    "    \"cover_link\": \"https://i.postimg.cc/2SB1PfCk/51638651358-9834f720d9-o.jpg\", \n",
    "    \"cure\": \"15days\", \n",
    "    \"cure_cycle\": \"cure_filed for Meningioma\",\n",
    "    \"diseaseIndex\": \"0\",\n",
    "    \"domain\": \"1\",\n",
    "    \"disease_name\": \"Meningioma Tumor\",\n",
    "    \"introduction\": \"this is introduction for Meningioma Tumor\",\n",
    "    \"symptoms\": \"these are the symptions of the Meningioma Tumor\",\n",
    "    \"thresholds\": \"this is the thresholds for Meningioma Tumor\"\n",
    "}\n",
    "DB.collection(\"diseaseData\").document(\"1-2\").set(data)"
   ]
  },
  {
   "cell_type": "code",
   "execution_count": 6,
   "id": "4de7b931-b767-4ccb-ad3c-648c5abf565f",
   "metadata": {
    "tags": []
   },
   "outputs": [],
   "source": [
    "ref = db.reference(\"posts/rohnsha0\")\n",
    "ref.child(\"name\").set({\"name\": \"rohan\"})"
   ]
  },
  {
   "cell_type": "code",
   "execution_count": null,
   "id": "b2fc14ec",
   "metadata": {},
   "outputs": [],
   "source": []
  }
 ],
 "metadata": {
  "kernelspec": {
   "display_name": "Python 3 (ipykernel)",
   "language": "python",
   "name": "python3"
  },
  "language_info": {
   "codemirror_mode": {
    "name": "ipython",
    "version": 3
   },
   "file_extension": ".py",
   "mimetype": "text/x-python",
   "name": "python",
   "nbconvert_exporter": "python",
   "pygments_lexer": "ipython3",
   "version": "3.11.5"
  }
 },
 "nbformat": 4,
 "nbformat_minor": 5
}
